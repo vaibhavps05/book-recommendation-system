{
 "cells": [
  {
   "cell_type": "code",
   "execution_count": 20,
   "id": "25962014-3411-4fb2-9203-43fb945a1190",
   "metadata": {},
   "outputs": [],
   "source": [
    "import numpy as np \n",
    "import pandas as pd"
   ]
  },
  {
   "cell_type": "code",
   "execution_count": 21,
   "id": "1fc68630-9b90-4e18-8e16-5e9316dd83cb",
   "metadata": {},
   "outputs": [
    {
     "name": "stderr",
     "output_type": "stream",
     "text": [
      "C:\\Users\\vaibhav\\AppData\\Local\\Temp\\ipykernel_2716\\95832991.py:1: DtypeWarning: Columns (3) have mixed types. Specify dtype option on import or set low_memory=False.\n",
      "  books = pd.read_csv('BX-Books.csv', sep=\";\", on_bad_lines='skip', encoding='latin-1')\n"
     ]
    }
   ],
   "source": [
    "books = pd.read_csv('BX-Books.csv', sep=\";\", on_bad_lines='skip', encoding='latin-1')\n",
    "users = pd.read_csv('BX-Users.csv', sep=\";\", on_bad_lines='skip', encoding='latin-1')\n",
    "ratings = pd.read_csv('BX-Book-Ratings.csv', sep=\";\", on_bad_lines='skip', encoding='latin-1')"
   ]
  },
  {
   "cell_type": "code",
   "execution_count": 22,
   "id": "6f445caf-cc8c-4719-84d8-5a521a964455",
   "metadata": {},
   "outputs": [
    {
     "data": {
      "text/plain": [
       "'http://images.amazon.com/images/P/0002005018.01.MZZZZZZZ.jpg'"
      ]
     },
     "execution_count": 22,
     "metadata": {},
     "output_type": "execute_result"
    }
   ],
   "source": [
    "books['Image-URL-M'][1]"
   ]
  },
  {
   "cell_type": "code",
   "execution_count": 23,
   "id": "8fa2e750-83ae-4b4a-9a71-6bc8235a233d",
   "metadata": {},
   "outputs": [
    {
     "data": {
      "text/html": [
       "<div>\n",
       "<style scoped>\n",
       "    .dataframe tbody tr th:only-of-type {\n",
       "        vertical-align: middle;\n",
       "    }\n",
       "\n",
       "    .dataframe tbody tr th {\n",
       "        vertical-align: top;\n",
       "    }\n",
       "\n",
       "    .dataframe thead th {\n",
       "        text-align: right;\n",
       "    }\n",
       "</style>\n",
       "<table border=\"1\" class=\"dataframe\">\n",
       "  <thead>\n",
       "    <tr style=\"text-align: right;\">\n",
       "      <th></th>\n",
       "      <th>User-ID</th>\n",
       "      <th>Location</th>\n",
       "      <th>Age</th>\n",
       "    </tr>\n",
       "  </thead>\n",
       "  <tbody>\n",
       "    <tr>\n",
       "      <th>0</th>\n",
       "      <td>1</td>\n",
       "      <td>nyc, new york, usa</td>\n",
       "      <td>NaN</td>\n",
       "    </tr>\n",
       "    <tr>\n",
       "      <th>1</th>\n",
       "      <td>2</td>\n",
       "      <td>stockton, california, usa</td>\n",
       "      <td>18.0</td>\n",
       "    </tr>\n",
       "    <tr>\n",
       "      <th>2</th>\n",
       "      <td>3</td>\n",
       "      <td>moscow, yukon territory, russia</td>\n",
       "      <td>NaN</td>\n",
       "    </tr>\n",
       "    <tr>\n",
       "      <th>3</th>\n",
       "      <td>4</td>\n",
       "      <td>porto, v.n.gaia, portugal</td>\n",
       "      <td>17.0</td>\n",
       "    </tr>\n",
       "    <tr>\n",
       "      <th>4</th>\n",
       "      <td>5</td>\n",
       "      <td>farnborough, hants, united kingdom</td>\n",
       "      <td>NaN</td>\n",
       "    </tr>\n",
       "  </tbody>\n",
       "</table>\n",
       "</div>"
      ],
      "text/plain": [
       "   User-ID                            Location   Age\n",
       "0        1                  nyc, new york, usa   NaN\n",
       "1        2           stockton, california, usa  18.0\n",
       "2        3     moscow, yukon territory, russia   NaN\n",
       "3        4           porto, v.n.gaia, portugal  17.0\n",
       "4        5  farnborough, hants, united kingdom   NaN"
      ]
     },
     "execution_count": 23,
     "metadata": {},
     "output_type": "execute_result"
    }
   ],
   "source": [
    "users.head()"
   ]
  },
  {
   "cell_type": "code",
   "execution_count": 24,
   "id": "c6febeb3-72aa-4241-a7e8-3486486713f5",
   "metadata": {},
   "outputs": [
    {
     "data": {
      "text/html": [
       "<div>\n",
       "<style scoped>\n",
       "    .dataframe tbody tr th:only-of-type {\n",
       "        vertical-align: middle;\n",
       "    }\n",
       "\n",
       "    .dataframe tbody tr th {\n",
       "        vertical-align: top;\n",
       "    }\n",
       "\n",
       "    .dataframe thead th {\n",
       "        text-align: right;\n",
       "    }\n",
       "</style>\n",
       "<table border=\"1\" class=\"dataframe\">\n",
       "  <thead>\n",
       "    <tr style=\"text-align: right;\">\n",
       "      <th></th>\n",
       "      <th>User-ID</th>\n",
       "      <th>ISBN</th>\n",
       "      <th>Book-Rating</th>\n",
       "    </tr>\n",
       "  </thead>\n",
       "  <tbody>\n",
       "    <tr>\n",
       "      <th>0</th>\n",
       "      <td>276725</td>\n",
       "      <td>034545104X</td>\n",
       "      <td>0</td>\n",
       "    </tr>\n",
       "    <tr>\n",
       "      <th>1</th>\n",
       "      <td>276726</td>\n",
       "      <td>0155061224</td>\n",
       "      <td>5</td>\n",
       "    </tr>\n",
       "    <tr>\n",
       "      <th>2</th>\n",
       "      <td>276727</td>\n",
       "      <td>0446520802</td>\n",
       "      <td>0</td>\n",
       "    </tr>\n",
       "    <tr>\n",
       "      <th>3</th>\n",
       "      <td>276729</td>\n",
       "      <td>052165615X</td>\n",
       "      <td>3</td>\n",
       "    </tr>\n",
       "    <tr>\n",
       "      <th>4</th>\n",
       "      <td>276729</td>\n",
       "      <td>0521795028</td>\n",
       "      <td>6</td>\n",
       "    </tr>\n",
       "  </tbody>\n",
       "</table>\n",
       "</div>"
      ],
      "text/plain": [
       "   User-ID        ISBN  Book-Rating\n",
       "0   276725  034545104X            0\n",
       "1   276726  0155061224            5\n",
       "2   276727  0446520802            0\n",
       "3   276729  052165615X            3\n",
       "4   276729  0521795028            6"
      ]
     },
     "execution_count": 24,
     "metadata": {},
     "output_type": "execute_result"
    }
   ],
   "source": [
    "ratings.head()"
   ]
  },
  {
   "cell_type": "code",
   "execution_count": 25,
   "id": "4ddf82dd-f8b1-45da-ad8c-2d286ff832bf",
   "metadata": {},
   "outputs": [
    {
     "name": "stdout",
     "output_type": "stream",
     "text": [
      "(271360, 8)\n",
      "(1149780, 3)\n",
      "(278858, 3)\n"
     ]
    }
   ],
   "source": [
    "print(books.shape)\n",
    "print(ratings.shape)\n",
    "print(users.shape)"
   ]
  },
  {
   "cell_type": "code",
   "execution_count": 26,
   "id": "5d2ddb91-b2d0-4084-9abd-b1a5660035fd",
   "metadata": {},
   "outputs": [],
   "source": [
    "books.rename(columns={\"Book-Title\":'Title',\n",
    "                      'Book-Author':'Author',\n",
    "                     \"Year-Of-Publication\":'Year',\n",
    "                     \"Image-URL-L\":\"URL\"},inplace=True)\n",
    "\n",
    "ratings.rename(columns={\"Book-Rating\": \"Ratings\"}, inplace=True)"
   ]
  },
  {
   "cell_type": "code",
   "execution_count": 27,
   "id": "acc6eafe-ecd3-4281-930d-861b2707f7ad",
   "metadata": {},
   "outputs": [],
   "source": [
    "books = books[['ISBN','Title', 'Author', 'Year', 'Publisher','URL']]"
   ]
  },
  {
   "cell_type": "code",
   "execution_count": 28,
   "id": "3264906c-b58d-4f4c-8134-d0d131a11cb2",
   "metadata": {},
   "outputs": [
    {
     "data": {
      "text/plain": [
       "User-ID\n",
       "11676     13602\n",
       "198711     7550\n",
       "153662     6109\n",
       "98391      5891\n",
       "35859      5850\n",
       "          ...  \n",
       "116180        1\n",
       "116166        1\n",
       "116154        1\n",
       "116137        1\n",
       "276723        1\n",
       "Name: count, Length: 105283, dtype: int64"
      ]
     },
     "execution_count": 28,
     "metadata": {},
     "output_type": "execute_result"
    }
   ],
   "source": [
    "ratings['User-ID'].value_counts()"
   ]
  },
  {
   "cell_type": "code",
   "execution_count": 29,
   "id": "4c143a96-57f6-4cba-8752-06a080cc74ee",
   "metadata": {},
   "outputs": [
    {
     "data": {
      "text/plain": [
       "(899,)"
      ]
     },
     "execution_count": 29,
     "metadata": {},
     "output_type": "execute_result"
    }
   ],
   "source": [
    "x = ratings['User-ID'].value_counts() > 200\n",
    "x[x].shape"
   ]
  },
  {
   "cell_type": "code",
   "execution_count": 30,
   "id": "a97bf4d5-5491-46a5-bcc9-9736d3ca2759",
   "metadata": {},
   "outputs": [
    {
     "data": {
      "text/plain": [
       "(526356, 3)"
      ]
     },
     "execution_count": 30,
     "metadata": {},
     "output_type": "execute_result"
    }
   ],
   "source": [
    "y= x[x].index\n",
    "ratings = ratings[ratings['User-ID'].isin(y)]\n",
    "ratings.shape"
   ]
  },
  {
   "cell_type": "code",
   "execution_count": 31,
   "id": "d89cbb94-fac9-4dfe-b3ec-01fa0464ea93",
   "metadata": {},
   "outputs": [
    {
     "name": "stdout",
     "output_type": "stream",
     "text": [
      "   User-ID        ISBN  Ratings  \\\n",
      "0   277427  002542730X       10   \n",
      "1     3363  002542730X        0   \n",
      "2    11676  002542730X        6   \n",
      "3    12538  002542730X       10   \n",
      "4    13552  002542730X        0   \n",
      "\n",
      "                                               Title             Author  Year  \\\n",
      "0  Politically Correct Bedtime Stories: Modern Ta...  James Finn Garner  1994   \n",
      "1  Politically Correct Bedtime Stories: Modern Ta...  James Finn Garner  1994   \n",
      "2  Politically Correct Bedtime Stories: Modern Ta...  James Finn Garner  1994   \n",
      "3  Politically Correct Bedtime Stories: Modern Ta...  James Finn Garner  1994   \n",
      "4  Politically Correct Bedtime Stories: Modern Ta...  James Finn Garner  1994   \n",
      "\n",
      "                   Publisher  \\\n",
      "0  John Wiley &amp; Sons Inc   \n",
      "1  John Wiley &amp; Sons Inc   \n",
      "2  John Wiley &amp; Sons Inc   \n",
      "3  John Wiley &amp; Sons Inc   \n",
      "4  John Wiley &amp; Sons Inc   \n",
      "\n",
      "                                                 URL  \n",
      "0  http://images.amazon.com/images/P/002542730X.0...  \n",
      "1  http://images.amazon.com/images/P/002542730X.0...  \n",
      "2  http://images.amazon.com/images/P/002542730X.0...  \n",
      "3  http://images.amazon.com/images/P/002542730X.0...  \n",
      "4  http://images.amazon.com/images/P/002542730X.0...  \n"
     ]
    }
   ],
   "source": [
    "ratings_with_books = ratings.merge(books, on='ISBN')\n",
    "print(ratings_with_books.head())"
   ]
  },
  {
   "cell_type": "code",
   "execution_count": 32,
   "id": "a8834e43-e56a-43af-8488-c01850c4ff87",
   "metadata": {},
   "outputs": [
    {
     "data": {
      "text/plain": [
       "(487671, 8)"
      ]
     },
     "execution_count": 32,
     "metadata": {},
     "output_type": "execute_result"
    }
   ],
   "source": [
    "ratings_with_books.shape"
   ]
  },
  {
   "cell_type": "code",
   "execution_count": 33,
   "id": "3b76d411-a8c9-468d-bdc5-99cae9141d1a",
   "metadata": {},
   "outputs": [
    {
     "name": "stdout",
     "output_type": "stream",
     "text": [
      "                                               Title  Ratings\n",
      "0   A Light in the Storm: The Civil War Diary of ...        2\n",
      "1                              Always Have Popsicles        1\n",
      "2               Apple Magic (The Collector's series)        1\n",
      "3   Beyond IBM: Leadership Marketing and Finance ...        1\n",
      "4   Clifford Visita El Hospital (Clifford El Gran...        1\n"
     ]
    }
   ],
   "source": [
    "number_rating = ratings_with_books.groupby('Title')['Ratings'].count().reset_index()\n",
    "print(number_rating.head())"
   ]
  },
  {
   "cell_type": "code",
   "execution_count": 34,
   "id": "30660d74-825a-498a-8d11-175e1255a97e",
   "metadata": {},
   "outputs": [
    {
     "name": "stdout",
     "output_type": "stream",
     "text": [
      "                                               Title  No. of Ratings\n",
      "0   A Light in the Storm: The Civil War Diary of ...               2\n",
      "1                              Always Have Popsicles               1\n",
      "2               Apple Magic (The Collector's series)               1\n",
      "3   Beyond IBM: Leadership Marketing and Finance ...               1\n",
      "4   Clifford Visita El Hospital (Clifford El Gran...               1\n"
     ]
    }
   ],
   "source": [
    "number_rating.rename(columns={'Ratings':'No. of Ratings'},inplace=True)\n",
    "print(number_rating.head())"
   ]
  },
  {
   "cell_type": "code",
   "execution_count": 35,
   "id": "2e73f888-547e-412d-a7ad-5452c3474ca7",
   "metadata": {},
   "outputs": [
    {
     "name": "stdout",
     "output_type": "stream",
     "text": [
      "   User-ID        ISBN  Ratings  \\\n",
      "0   277427  002542730X       10   \n",
      "1     3363  002542730X        0   \n",
      "2    11676  002542730X        6   \n",
      "3    12538  002542730X       10   \n",
      "4    13552  002542730X        0   \n",
      "\n",
      "                                               Title             Author  Year  \\\n",
      "0  Politically Correct Bedtime Stories: Modern Ta...  James Finn Garner  1994   \n",
      "1  Politically Correct Bedtime Stories: Modern Ta...  James Finn Garner  1994   \n",
      "2  Politically Correct Bedtime Stories: Modern Ta...  James Finn Garner  1994   \n",
      "3  Politically Correct Bedtime Stories: Modern Ta...  James Finn Garner  1994   \n",
      "4  Politically Correct Bedtime Stories: Modern Ta...  James Finn Garner  1994   \n",
      "\n",
      "                   Publisher  \\\n",
      "0  John Wiley &amp; Sons Inc   \n",
      "1  John Wiley &amp; Sons Inc   \n",
      "2  John Wiley &amp; Sons Inc   \n",
      "3  John Wiley &amp; Sons Inc   \n",
      "4  John Wiley &amp; Sons Inc   \n",
      "\n",
      "                                                 URL  No. of Ratings  \n",
      "0  http://images.amazon.com/images/P/002542730X.0...              82  \n",
      "1  http://images.amazon.com/images/P/002542730X.0...              82  \n",
      "2  http://images.amazon.com/images/P/002542730X.0...              82  \n",
      "3  http://images.amazon.com/images/P/002542730X.0...              82  \n",
      "4  http://images.amazon.com/images/P/002542730X.0...              82  \n"
     ]
    }
   ],
   "source": [
    "final_rating = ratings_with_books.merge(number_rating, on='Title')\n",
    "print(final_rating.head())"
   ]
  },
  {
   "cell_type": "code",
   "execution_count": 36,
   "id": "f4891491-c646-4982-800f-a43b76a7f339",
   "metadata": {},
   "outputs": [
    {
     "data": {
      "text/plain": [
       "(487671, 9)"
      ]
     },
     "execution_count": 36,
     "metadata": {},
     "output_type": "execute_result"
    }
   ],
   "source": [
    "final_rating.shape"
   ]
  },
  {
   "cell_type": "code",
   "execution_count": 51,
   "id": "7bedc8cc-c41c-4e59-85c6-3b9654334782",
   "metadata": {},
   "outputs": [
    {
     "name": "stderr",
     "output_type": "stream",
     "text": [
      "C:\\Users\\vaibhav\\AppData\\Local\\Temp\\ipykernel_2716\\215743997.py:2: SettingWithCopyWarning: \n",
      "A value is trying to be set on a copy of a slice from a DataFrame\n",
      "\n",
      "See the caveats in the documentation: https://pandas.pydata.org/pandas-docs/stable/user_guide/indexing.html#returning-a-view-versus-a-copy\n",
      "  final_rating.drop_duplicates(['User-ID','Title'],inplace=True)\n"
     ]
    },
    {
     "data": {
      "text/plain": [
       "(59850, 9)"
      ]
     },
     "execution_count": 51,
     "metadata": {},
     "output_type": "execute_result"
    }
   ],
   "source": [
    "final_rating = final_rating[final_rating['No. of Ratings'] >= 50]\n",
    "final_rating.drop_duplicates(['User-ID','Title'],inplace=True)\n",
    "final_rating.shape"
   ]
  },
  {
   "cell_type": "code",
   "execution_count": 53,
   "id": "18f39e32-8d1d-4f89-8de3-23d1a8bb5bee",
   "metadata": {},
   "outputs": [],
   "source": [
    "book_pivot = final_rating.pivot_table(columns='User-ID', index='Title', values=\"Ratings\")"
   ]
  },
  {
   "cell_type": "code",
   "execution_count": 54,
   "id": "8cd77070-03df-4ca1-9eeb-97ff1d7451c3",
   "metadata": {},
   "outputs": [
    {
     "name": "stdout",
     "output_type": "stream",
     "text": [
      "User-ID                                             254     2276    2766    \\\n",
      "Title                                                                        \n",
      "1984                                                   9.0     0.0     0.0   \n",
      "1st to Die: A Novel                                    0.0     0.0     0.0   \n",
      "2nd Chance                                             0.0    10.0     0.0   \n",
      "4 Blondes                                              0.0     0.0     0.0   \n",
      "84 Charing Cross Road                                  0.0     0.0     0.0   \n",
      "...                                                    ...     ...     ...   \n",
      "Year of Wonders                                        0.0     0.0     0.0   \n",
      "You Belong To Me                                       0.0     0.0     0.0   \n",
      "Zen and the Art of Motorcycle Maintenance: An I...     0.0     0.0     0.0   \n",
      "Zoya                                                   0.0     0.0     0.0   \n",
      "\\O\\\" Is for Outlaw\"                                    0.0     0.0     0.0   \n",
      "\n",
      "User-ID                                             2977    3363    3757    \\\n",
      "Title                                                                        \n",
      "1984                                                   0.0     0.0     0.0   \n",
      "1st to Die: A Novel                                    0.0     0.0     0.0   \n",
      "2nd Chance                                             0.0     0.0     0.0   \n",
      "4 Blondes                                              0.0     0.0     0.0   \n",
      "84 Charing Cross Road                                  0.0     0.0     0.0   \n",
      "...                                                    ...     ...     ...   \n",
      "Year of Wonders                                        7.0     0.0     0.0   \n",
      "You Belong To Me                                       0.0     0.0     0.0   \n",
      "Zen and the Art of Motorcycle Maintenance: An I...     0.0     0.0     0.0   \n",
      "Zoya                                                   0.0     0.0     0.0   \n",
      "\\O\\\" Is for Outlaw\"                                    0.0     0.0     0.0   \n",
      "\n",
      "User-ID                                             4017    4385    6242    \\\n",
      "Title                                                                        \n",
      "1984                                                   0.0     0.0     0.0   \n",
      "1st to Die: A Novel                                    0.0     0.0     0.0   \n",
      "2nd Chance                                             0.0     0.0     0.0   \n",
      "4 Blondes                                              0.0     0.0     0.0   \n",
      "84 Charing Cross Road                                  0.0     0.0     0.0   \n",
      "...                                                    ...     ...     ...   \n",
      "Year of Wonders                                        0.0     0.0     7.0   \n",
      "You Belong To Me                                       0.0     0.0     0.0   \n",
      "Zen and the Art of Motorcycle Maintenance: An I...     0.0     0.0     0.0   \n",
      "Zoya                                                   0.0     0.0     0.0   \n",
      "\\O\\\" Is for Outlaw\"                                    0.0     0.0     0.0   \n",
      "\n",
      "User-ID                                             6251    ...  274004  \\\n",
      "Title                                                       ...           \n",
      "1984                                                   0.0  ...     0.0   \n",
      "1st to Die: A Novel                                    0.0  ...     0.0   \n",
      "2nd Chance                                             0.0  ...     0.0   \n",
      "4 Blondes                                              0.0  ...     0.0   \n",
      "84 Charing Cross Road                                  0.0  ...     0.0   \n",
      "...                                                    ...  ...     ...   \n",
      "Year of Wonders                                        0.0  ...     0.0   \n",
      "You Belong To Me                                       0.0  ...     0.0   \n",
      "Zen and the Art of Motorcycle Maintenance: An I...     0.0  ...     0.0   \n",
      "Zoya                                                   0.0  ...     0.0   \n",
      "\\O\\\" Is for Outlaw\"                                    0.0  ...     0.0   \n",
      "\n",
      "User-ID                                             274061  274301  274308  \\\n",
      "Title                                                                        \n",
      "1984                                                   0.0     0.0     0.0   \n",
      "1st to Die: A Novel                                    0.0     0.0     0.0   \n",
      "2nd Chance                                             0.0     0.0     0.0   \n",
      "4 Blondes                                              0.0     0.0     0.0   \n",
      "84 Charing Cross Road                                  0.0     0.0     0.0   \n",
      "...                                                    ...     ...     ...   \n",
      "Year of Wonders                                        0.0     0.0     0.0   \n",
      "You Belong To Me                                       0.0     0.0     0.0   \n",
      "Zen and the Art of Motorcycle Maintenance: An I...     0.0     0.0     0.0   \n",
      "Zoya                                                   0.0     0.0     0.0   \n",
      "\\O\\\" Is for Outlaw\"                                    0.0     8.0     0.0   \n",
      "\n",
      "User-ID                                             274808  275970  277427  \\\n",
      "Title                                                                        \n",
      "1984                                                   0.0     0.0     0.0   \n",
      "1st to Die: A Novel                                    0.0     0.0     0.0   \n",
      "2nd Chance                                             0.0     0.0     0.0   \n",
      "4 Blondes                                              0.0     0.0     0.0   \n",
      "84 Charing Cross Road                                  0.0    10.0     0.0   \n",
      "...                                                    ...     ...     ...   \n",
      "Year of Wonders                                        0.0     0.0     0.0   \n",
      "You Belong To Me                                       0.0     0.0     0.0   \n",
      "Zen and the Art of Motorcycle Maintenance: An I...     0.0     0.0     0.0   \n",
      "Zoya                                                   0.0     0.0     0.0   \n",
      "\\O\\\" Is for Outlaw\"                                    0.0     0.0     0.0   \n",
      "\n",
      "User-ID                                             277478  277639  278418  \n",
      "Title                                                                       \n",
      "1984                                                   0.0     0.0     0.0  \n",
      "1st to Die: A Novel                                    0.0     0.0     0.0  \n",
      "2nd Chance                                             0.0     0.0     0.0  \n",
      "4 Blondes                                              0.0     0.0     0.0  \n",
      "84 Charing Cross Road                                  0.0     0.0     0.0  \n",
      "...                                                    ...     ...     ...  \n",
      "Year of Wonders                                        0.0     0.0     0.0  \n",
      "You Belong To Me                                       0.0     0.0     0.0  \n",
      "Zen and the Art of Motorcycle Maintenance: An I...     0.0     0.0     0.0  \n",
      "Zoya                                                   0.0     0.0     0.0  \n",
      "\\O\\\" Is for Outlaw\"                                    0.0     0.0     0.0  \n",
      "\n",
      "[742 rows x 888 columns]\n"
     ]
    }
   ],
   "source": [
    "book_pivot.fillna(0, inplace=True)\n",
    "print(book_pivot)"
   ]
  },
  {
   "cell_type": "code",
   "execution_count": 55,
   "id": "c65a66b1-9179-438d-ba92-2fea6741275a",
   "metadata": {},
   "outputs": [
    {
     "data": {
      "text/html": [
       "<style>#sk-container-id-1 {color: black;}#sk-container-id-1 pre{padding: 0;}#sk-container-id-1 div.sk-toggleable {background-color: white;}#sk-container-id-1 label.sk-toggleable__label {cursor: pointer;display: block;width: 100%;margin-bottom: 0;padding: 0.3em;box-sizing: border-box;text-align: center;}#sk-container-id-1 label.sk-toggleable__label-arrow:before {content: \"▸\";float: left;margin-right: 0.25em;color: #696969;}#sk-container-id-1 label.sk-toggleable__label-arrow:hover:before {color: black;}#sk-container-id-1 div.sk-estimator:hover label.sk-toggleable__label-arrow:before {color: black;}#sk-container-id-1 div.sk-toggleable__content {max-height: 0;max-width: 0;overflow: hidden;text-align: left;background-color: #f0f8ff;}#sk-container-id-1 div.sk-toggleable__content pre {margin: 0.2em;color: black;border-radius: 0.25em;background-color: #f0f8ff;}#sk-container-id-1 input.sk-toggleable__control:checked~div.sk-toggleable__content {max-height: 200px;max-width: 100%;overflow: auto;}#sk-container-id-1 input.sk-toggleable__control:checked~label.sk-toggleable__label-arrow:before {content: \"▾\";}#sk-container-id-1 div.sk-estimator input.sk-toggleable__control:checked~label.sk-toggleable__label {background-color: #d4ebff;}#sk-container-id-1 div.sk-label input.sk-toggleable__control:checked~label.sk-toggleable__label {background-color: #d4ebff;}#sk-container-id-1 input.sk-hidden--visually {border: 0;clip: rect(1px 1px 1px 1px);clip: rect(1px, 1px, 1px, 1px);height: 1px;margin: -1px;overflow: hidden;padding: 0;position: absolute;width: 1px;}#sk-container-id-1 div.sk-estimator {font-family: monospace;background-color: #f0f8ff;border: 1px dotted black;border-radius: 0.25em;box-sizing: border-box;margin-bottom: 0.5em;}#sk-container-id-1 div.sk-estimator:hover {background-color: #d4ebff;}#sk-container-id-1 div.sk-parallel-item::after {content: \"\";width: 100%;border-bottom: 1px solid gray;flex-grow: 1;}#sk-container-id-1 div.sk-label:hover label.sk-toggleable__label {background-color: #d4ebff;}#sk-container-id-1 div.sk-serial::before {content: \"\";position: absolute;border-left: 1px solid gray;box-sizing: border-box;top: 0;bottom: 0;left: 50%;z-index: 0;}#sk-container-id-1 div.sk-serial {display: flex;flex-direction: column;align-items: center;background-color: white;padding-right: 0.2em;padding-left: 0.2em;position: relative;}#sk-container-id-1 div.sk-item {position: relative;z-index: 1;}#sk-container-id-1 div.sk-parallel {display: flex;align-items: stretch;justify-content: center;background-color: white;position: relative;}#sk-container-id-1 div.sk-item::before, #sk-container-id-1 div.sk-parallel-item::before {content: \"\";position: absolute;border-left: 1px solid gray;box-sizing: border-box;top: 0;bottom: 0;left: 50%;z-index: -1;}#sk-container-id-1 div.sk-parallel-item {display: flex;flex-direction: column;z-index: 1;position: relative;background-color: white;}#sk-container-id-1 div.sk-parallel-item:first-child::after {align-self: flex-end;width: 50%;}#sk-container-id-1 div.sk-parallel-item:last-child::after {align-self: flex-start;width: 50%;}#sk-container-id-1 div.sk-parallel-item:only-child::after {width: 0;}#sk-container-id-1 div.sk-dashed-wrapped {border: 1px dashed gray;margin: 0 0.4em 0.5em 0.4em;box-sizing: border-box;padding-bottom: 0.4em;background-color: white;}#sk-container-id-1 div.sk-label label {font-family: monospace;font-weight: bold;display: inline-block;line-height: 1.2em;}#sk-container-id-1 div.sk-label-container {text-align: center;}#sk-container-id-1 div.sk-container {/* jupyter's `normalize.less` sets `[hidden] { display: none; }` but bootstrap.min.css set `[hidden] { display: none !important; }` so we also need the `!important` here to be able to override the default hidden behavior on the sphinx rendered scikit-learn.org. See: https://github.com/scikit-learn/scikit-learn/issues/21755 */display: inline-block !important;position: relative;}#sk-container-id-1 div.sk-text-repr-fallback {display: none;}</style><div id=\"sk-container-id-1\" class=\"sk-top-container\"><div class=\"sk-text-repr-fallback\"><pre>NearestNeighbors(algorithm=&#x27;brute&#x27;)</pre><b>In a Jupyter environment, please rerun this cell to show the HTML representation or trust the notebook. <br />On GitHub, the HTML representation is unable to render, please try loading this page with nbviewer.org.</b></div><div class=\"sk-container\" hidden><div class=\"sk-item\"><div class=\"sk-estimator sk-toggleable\"><input class=\"sk-toggleable__control sk-hidden--visually\" id=\"sk-estimator-id-1\" type=\"checkbox\" checked><label for=\"sk-estimator-id-1\" class=\"sk-toggleable__label sk-toggleable__label-arrow\">NearestNeighbors</label><div class=\"sk-toggleable__content\"><pre>NearestNeighbors(algorithm=&#x27;brute&#x27;)</pre></div></div></div></div></div>"
      ],
      "text/plain": [
       "NearestNeighbors(algorithm='brute')"
      ]
     },
     "execution_count": 55,
     "metadata": {},
     "output_type": "execute_result"
    }
   ],
   "source": [
    "from scipy.sparse import csr_matrix\n",
    "book_sparse = csr_matrix(book_pivot)\n",
    "\n",
    "book_names = book_pivot.index\n",
    "from sklearn.neighbors import NearestNeighbors\n",
    "model = NearestNeighbors(algorithm= 'brute')\n",
    "model.fit(book_sparse)"
   ]
  },
  {
   "cell_type": "code",
   "execution_count": 56,
   "id": "2fce7149-a2a2-4b56-89a4-0d4a60af91fc",
   "metadata": {},
   "outputs": [
    {
     "data": {
      "text/plain": [
       "array([[ 0.        , 68.78953409, 69.5413546 , 72.64296249, 76.83098333,\n",
       "        77.28518616]])"
      ]
     },
     "execution_count": 56,
     "metadata": {},
     "output_type": "execute_result"
    }
   ],
   "source": [
    "distance, suggestion = model.kneighbors(book_pivot.iloc[237,:].values.reshape(1,-1), n_neighbors=6 )\n",
    "distance"
   ]
  },
  {
   "cell_type": "code",
   "execution_count": 57,
   "id": "37fd03c3-4dd4-4422-81e3-253b7c7aa97e",
   "metadata": {},
   "outputs": [
    {
     "data": {
      "text/plain": [
       "array([[237, 240, 238, 241, 184, 536]], dtype=int64)"
      ]
     },
     "execution_count": 57,
     "metadata": {},
     "output_type": "execute_result"
    }
   ],
   "source": [
    "suggestion"
   ]
  },
  {
   "cell_type": "code",
   "execution_count": 58,
   "id": "7f741888-b3ef-49b3-a81e-4423cb247479",
   "metadata": {},
   "outputs": [
    {
     "data": {
      "text/plain": [
       "User-ID\n",
       "254       9.0\n",
       "2276      0.0\n",
       "2766      0.0\n",
       "2977      0.0\n",
       "3363      0.0\n",
       "         ... \n",
       "275970    9.0\n",
       "277427    0.0\n",
       "277478    0.0\n",
       "277639    0.0\n",
       "278418    0.0\n",
       "Name: Harry Potter and the Sorcerer's Stone (Book 1), Length: 888, dtype: float64"
      ]
     },
     "execution_count": 58,
     "metadata": {},
     "output_type": "execute_result"
    }
   ],
   "source": [
    "book_pivot.iloc[241,:]"
   ]
  },
  {
   "cell_type": "code",
   "execution_count": 59,
   "id": "7aedcbd7-fae5-4103-a30a-934a71ee69bf",
   "metadata": {},
   "outputs": [
    {
     "name": "stdout",
     "output_type": "stream",
     "text": [
      "Index(['Harry Potter and the Chamber of Secrets (Book 2)',\n",
      "       'Harry Potter and the Prisoner of Azkaban (Book 3)',\n",
      "       'Harry Potter and the Goblet of Fire (Book 4)',\n",
      "       'Harry Potter and the Sorcerer's Stone (Book 1)', 'Exclusive',\n",
      "       'The Cradle Will Fall'],\n",
      "      dtype='object', name='Title')\n"
     ]
    }
   ],
   "source": [
    "for i in range(len(suggestion)):\n",
    "    print(book_pivot.index[suggestion[i]])"
   ]
  },
  {
   "cell_type": "code",
   "execution_count": 61,
   "id": "3175b0da-5caf-4542-9fa0-33cc6dd9e934",
   "metadata": {},
   "outputs": [],
   "source": [
    "import pickle\n",
    "pickle.dump(model,open('Model.pkl','wb'))\n",
    "pickle.dump(book_names,open('Book_Names.pkl','wb'))\n",
    "pickle.dump(final_rating,open('Final_Rating.pkl','wb'))\n",
    "pickle.dump(book_pivot,open('Book_Pivot.pkl','wb'))"
   ]
  },
  {
   "cell_type": "code",
   "execution_count": null,
   "id": "3e0ef5ea-8616-4e30-87ae-9bf0cfd90183",
   "metadata": {},
   "outputs": [],
   "source": []
  }
 ],
 "metadata": {
  "kernelspec": {
   "display_name": "Python 3 (ipykernel)",
   "language": "python",
   "name": "python3"
  },
  "language_info": {
   "codemirror_mode": {
    "name": "ipython",
    "version": 3
   },
   "file_extension": ".py",
   "mimetype": "text/x-python",
   "name": "python",
   "nbconvert_exporter": "python",
   "pygments_lexer": "ipython3",
   "version": "3.11.5"
  }
 },
 "nbformat": 4,
 "nbformat_minor": 5
}
